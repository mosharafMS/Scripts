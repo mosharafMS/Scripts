{
    "metadata": {
        "kernelspec": {
            "name": "SQL",
            "display_name": "SQL",
            "language": "sql"
        },
        "language_info": {
            "name": "sql",
            "version": ""
        }
    },
    "nbformat_minor": 2,
    "nbformat": 4,
    "cells": [
        {
            "cell_type": "markdown",
            "source": [
                "# Encryption"
            ],
            "metadata": {
                "azdata_cell_guid": "84cdd90c-6d00-4925-b9ca-c2e888e717a5",
                "tags": []
            }
        },
        {
            "cell_type": "markdown",
            "source": [
                "![Encryption explained](https://cloudsafari.blob.core.windows.net/blogresources/encryption.png)"
            ],
            "metadata": {
                "azdata_cell_guid": "ddd00b54-6164-4dad-ad80-5ccf1b49155c",
                "tags": []
            }
        },
        {
            "cell_type": "markdown",
            "source": [
                "![Key hierarchy](https://cloudsafari.blob.core.windows.net/blogresources/encryption-hierarchy-stack.gif)"
            ],
            "metadata": {
                "azdata_cell_guid": "cfbdef65-f4c7-4ef2-be7c-6f7b664e6ab4",
                "tags": []
            }
        },
        {
            "cell_type": "markdown",
            "source": [
                "**Transparent Database Encryption (TDE)**\r\n",
                "\r\n",
                "Protect only files or backups"
            ],
            "metadata": {
                "azdata_cell_guid": "f3bc4f92-352e-4402-87e4-9b7f4522716f",
                "tags": []
            }
        },
        {
            "cell_type": "markdown",
            "source": [
                "Create a new database and fill it with data from Adventureworks database"
            ],
            "metadata": {
                "azdata_cell_guid": "1e362948-40ac-49e3-aeb7-f7f5025e5644",
                "tags": []
            }
        },
        {
            "cell_type": "code",
            "source": [
                "CREATE DATABASE TDESample;\r\n",
                "GO\r\n",
                "\r\n",
                "USE TDESample;\r\n",
                "GO\r\n",
                "\r\n",
                "--import some tables from the AdventureWorks database\r\n",
                "\r\n",
                "SELECT * \r\n",
                "INTO dbo.customers\r\n",
                "FROM AdventureWorks.Sales.Customer;\r\n",
                "GO\r\n",
                "\r\n",
                "SELECT * \r\n",
                "INTO dbo.Products\r\n",
                "FROM AdventureWorks.Production.Product;\r\n",
                "GO\r\n",
                "\r\n",
                "SELECT *\r\n",
                "INTO dbo.SalesOrders\r\n",
                "FROM AdventureWorks.Sales.SalesOrderHeader;\r\n",
                "GO\r\n",
                "\r\n",
                "SELECT *\r\n",
                "INTO dbo.SalesDetails\r\n",
                "FROM AdventureWorks.Sales.SalesOrderDetail;\r\n",
                "GO\r\n",
                ""
            ],
            "metadata": {
                "azdata_cell_guid": "a87194fe-f1da-4d9a-bfbf-be4288d7efc5",
                "tags": []
            },
            "outputs": [],
            "execution_count": null
        },
        {
            "cell_type": "markdown",
            "source": [
                "Check database status"
            ],
            "metadata": {
                "azdata_cell_guid": "4452f4c1-bca0-49aa-9827-384d3080f287",
                "tags": []
            }
        },
        {
            "cell_type": "code",
            "source": [
                "select database_id,name,is_encrypted from sys.databases\r\n",
                "go\r\n",
                "select * from sys.certificates\r\n",
                "go\r\n",
                "select * from sys.dm_database_encryption_keys --shows the tempdb encrypted as well.\r\n",
                "go\r\n",
                "--get which certificates used by which DEKs\r\n",
                "select c.name as certificateName,dek.database_id,\r\n",
                "DB_NAME(dek.database_id) as 'Database Name',dek.encryption_state\r\n",
                "from sys.dm_database_encryption_keys dek \r\n",
                "join sys.certificates c on dek.encryptor_thumbprint=c.thumbprint"
            ],
            "metadata": {
                "azdata_cell_guid": "1bcaa05e-e9fd-4334-878a-e591b3965434",
                "tags": []
            },
            "outputs": [],
            "execution_count": null
        },
        {
            "cell_type": "markdown",
            "source": [
                "Encrypt the database"
            ],
            "metadata": {
                "azdata_cell_guid": "44747d55-12e2-47f8-b552-f70af800211a",
                "tags": []
            }
        },
        {
            "cell_type": "code",
            "source": [
                "\r\n",
                "--service master key is already created\r\n",
                "--let's create the database master key of the master database\r\n",
                "use master\r\n",
                "go\r\n",
                "SELECT * FROM sys.symmetric_keys;\r\n",
                "\r\n",
                "\r\n",
                "\r\n",
                ""
            ],
            "metadata": {
                "azdata_cell_guid": "2bcfb835-1536-4f5a-a297-62414ccb8b0a",
                "tags": []
            },
            "outputs": [],
            "execution_count": null
        },
        {
            "cell_type": "markdown",
            "source": [
                "Create master database's master key\r\n",
                "\r\n",
                "The database master key is a symmetric key that is used to protect the private keys of certificates and asymmetric keys that are present in the database. It can also be used to encrypt data, but it has length limitations that make it less practical for data than using a symmetric key. To enable the automatic decryption of the database master key, a copy of the key is encrypted by using the SMK. It is stored in both the database where it is used and in the master system database."
            ],
            "metadata": {
                "azdata_cell_guid": "c24449ce-21f3-47bc-af94-f9cf645ab416",
                "tags": []
            }
        },
        {
            "cell_type": "code",
            "source": [
                "use master;\r\n",
                "GO\r\n",
                "create master key encryption by password='MasterDBPassword!'\r\n",
                "GO\r\n",
                "SELECT * FROM sys.symmetric_keys;\r\n",
                ""
            ],
            "metadata": {
                "azdata_cell_guid": "cdd0bb0e-90e5-4bb2-875c-95ff5c4f829d",
                "tags": []
            },
            "outputs": [],
            "execution_count": null
        },
        {
            "cell_type": "markdown",
            "source": [
                "Create the certificate to use to encrypt the DEK"
            ],
            "metadata": {
                "azdata_cell_guid": "46cfd288-8d95-4867-bed5-c34ac6acf892",
                "tags": []
            }
        },
        {
            "cell_type": "code",
            "source": [
                "--create certificate to use it to encrypt the AdventureWorks Databaes Encryption Key (don't encrypt by password)\r\n",
                "Create certificate cert_AW_encryptDEK authorization dbo\r\n",
                "with subject='the DEK certificate for AdventureWorks database'\r\n",
                "go\r\n",
                "\r\n",
                ""
            ],
            "metadata": {
                "azdata_cell_guid": "92af1432-f6bc-4130-8eb9-8773bf90b5cf",
                "tags": []
            },
            "outputs": [],
            "execution_count": null
        },
        {
            "cell_type": "markdown",
            "source": [
                "--now move to TDESample and create the DEK\r\n",
                "\r\n",
                "TDE performs real-time I/O encryption and decryption of the data and log files. The encryption uses a database encryption key (DEK), which is stored in the database boot record for availability during recovery. The DEK is a symmetric key secured by using a certificate stored in the master database of the server or an asymmetric key protected by an EKM module"
            ],
            "metadata": {
                "azdata_cell_guid": "f57a5f87-c449-434a-9498-6e5421594cee",
                "tags": []
            }
        },
        {
            "cell_type": "code",
            "source": [
                "use TDESample;\r\n",
                "go\r\n",
                "Create database encryption key \r\n",
                "with Algorithm=AES_256\r\n",
                "Encryption by server certificate cert_aw_encryptDEK\r\n",
                "go\r\n",
                "Alter database TDESample\r\n",
                "set encryption ON\r\n",
                "go"
            ],
            "metadata": {
                "azdata_cell_guid": "7ae1a5d4-a29d-42ea-8664-4e8c88d42b0c",
                "tags": []
            },
            "outputs": [],
            "execution_count": null
        },
        {
            "cell_type": "markdown",
            "source": [
                "Checking..."
            ],
            "metadata": {
                "azdata_cell_guid": "013f3f14-b14b-42a3-b2b7-2c1b56b072a3",
                "tags": []
            }
        },
        {
            "cell_type": "code",
            "source": [
                "USE master;\r\n",
                "GO\r\n",
                "select database_id,name,is_encrypted from sys.databases\r\n",
                ""
            ],
            "metadata": {
                "azdata_cell_guid": "046d21d0-2761-44c3-838e-a0053d563009",
                "tags": []
            },
            "outputs": [],
            "execution_count": null
        },
        {
            "cell_type": "code",
            "source": [
                "use master;\r\n",
                "go\r\n",
                "select * from sys.certificates\r\n",
                ""
            ],
            "metadata": {
                "azdata_cell_guid": "47baa857-03b1-4026-bc26-3524ea955abb",
                "tags": []
            },
            "outputs": [],
            "execution_count": null
        },
        {
            "cell_type": "code",
            "source": [
                "use master;\r\n",
                "go\r\n",
                "select * from sys.dm_database_encryption_keys --shows the tempdb encrypted as well.\r\n",
                ""
            ],
            "metadata": {
                "azdata_cell_guid": "aaed3389-1507-440c-a69f-69ce6fed3552",
                "tags": []
            },
            "outputs": [],
            "execution_count": null
        },
        {
            "cell_type": "code",
            "source": [
                "use master;\r\n",
                "go\r\n",
                "--get which certificates used by which DEKs\r\n",
                "select c.name as certificateName,dek.database_id,\r\n",
                "DB_NAME(dek.database_id) as 'Database Name',dek.encryption_state\r\n",
                "from sys.dm_database_encryption_keys dek \r\n",
                "join sys.certificates c on dek.encryptor_thumbprint=c.thumbprint"
            ],
            "metadata": {
                "azdata_cell_guid": "aa4c75c8-07c6-4865-b9bb-9446d2dc3b84",
                "tags": []
            },
            "outputs": [],
            "execution_count": null
        },
        {
            "cell_type": "markdown",
            "source": [
                "Now, let's try backup the database "
            ],
            "metadata": {
                "azdata_cell_guid": "16d11a36-39e7-462a-b081-1cc510c7a573",
                "tags": []
            }
        },
        {
            "cell_type": "code",
            "source": [
                "use master\r\n",
                "go\r\n",
                "BACKUP DATABASE [TDESample] \r\n",
                "TO  DISK = N'C:\\Temp\\TDESample_afterTDE.bak' \r\n",
                "WITH NAME = N'TDESample-Full Database Backup'\r\n",
                "GO\r\n",
                "--backup certificate\r\n",
                "use master\r\n",
                "go\r\n",
                "backup certificate cert_aw_encryptDEK\r\n",
                "to file='c:\\Temp\\cert_aw_encryptDEK.cert'\r\n",
                "with private key(file='c:\\Temp\\cert_aw_encryptDEK_privateKey.cert',\r\n",
                "encryption by password='privateKeyPass!')--have to use password for private key file\r\n",
                "\r\n",
                "\r\n",
                ""
            ],
            "metadata": {
                "azdata_cell_guid": "9e4a7e31-d3f2-402c-a504-3ce5f23018a7",
                "tags": []
            },
            "outputs": [],
            "execution_count": null
        },
        {
            "cell_type": "markdown",
            "source": [
                "**connect to another server**\r\n",
                "\r\n",
                "restore the certificate first\r\n",
                ""
            ],
            "metadata": {
                "azdata_cell_guid": "391b4a2f-18b2-4bb5-b700-8a7d8ed37fb9",
                "tags": []
            }
        },
        {
            "cell_type": "code",
            "source": [
                "\r\n",
                "use master\r\n",
                "go\r\n",
                "SELECT * FROM sys.symmetric_keys;\r\n",
                "\r\n",
                "--this step needed only if the master database in the new server doesn't have master key\r\n",
                "create master key encryption by password='MasterDBPassword!'\r\n",
                "go\r\n",
                "-------------------------------------------------------------------\r\n",
                "\r\n",
                "create certificate cert_aw_encryptDEK\r\n",
                "from file='c:\\Temp\\cert_aw_encryptDEK.cert'\r\n",
                "with private key(file='c:\\Temp\\cert_aw_encryptDEK_privateKey.cert', decryption by password='privateKeyPass!')\r\n",
                "go\r\n",
                "\r\n",
                "RESTORE DATABASE [TDESample] \r\n",
                "FROM  DISK = N'C:\\Temp\\TDESample_afterTDE.bak' \r\n",
                "WITH MOVE N'TDESample' TO N'C:\\Program Files\\Microsoft SQL Server\\MSSQL10.SQLDEV02\\MSSQL\\DATA\\TDESample.mdf',\r\n",
                "MOVE N'TDESample_Log' TO N'C:\\Program Files\\Microsoft SQL Server\\MSSQL10.SQLDEV02\\MSSQL\\DATA\\TDESample_1.ldf'\r\n",
                "GO"
            ],
            "metadata": {
                "azdata_cell_guid": "2b4dfc0c-849d-4447-91f2-f55be5c04a69",
                "tags": []
            },
            "outputs": [],
            "execution_count": null
        },
        {
            "cell_type": "markdown",
            "source": [
                "# CLEAN UP\r\n",
                ""
            ],
            "metadata": {
                "azdata_cell_guid": "c89a371f-c442-4b7a-b9c4-8a320a7d1613",
                "tags": []
            }
        },
        {
            "cell_type": "code",
            "source": [
                "use master;\r\n",
                "GO\r\n",
                "DROP DATABASE TDESample;\r\n",
                "GO\r\n",
                "DROP Certificate cert_AW_encryptDEK;\r\n",
                "GO\r\n",
                "drop master key "
            ],
            "metadata": {
                "azdata_cell_guid": "c6e257a7-1623-43fa-9524-8c04599cfcac",
                "tags": []
            },
            "outputs": [],
            "execution_count": null
        }
    ]
}