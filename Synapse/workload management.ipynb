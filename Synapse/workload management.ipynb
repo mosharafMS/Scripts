{
    "metadata": {
        "kernelspec": {
            "name": "SQL",
            "display_name": "SQL",
            "language": "sql"
        },
        "language_info": {
            "name": "sql",
            "version": ""
        }
    },
    "nbformat_minor": 2,
    "nbformat": 4,
    "cells": [
        {
            "cell_type": "markdown",
            "source": [
                "# Azure Synapse - Workload Management (WM)"
            ],
            "metadata": {
                "azdata_cell_guid": "db31fcd5-4972-4f6c-b4f4-1a86c3d8d0ed"
            }
        },
        {
            "cell_type": "markdown",
            "source": [
                "## Explore the SQL Pool"
            ],
            "metadata": {
                "azdata_cell_guid": "9016c8c1-d956-44e9-8d86-3a9b4804ee2f"
            }
        },
        {
            "cell_type": "code",
            "source": [
                "-- in master context\r\n",
                "select * from sys.database_service_objectives\r\n",
                ""
            ],
            "metadata": {
                "azdata_cell_guid": "1cfa3aa0-2810-4ab0-97bc-e231e549a966"
            },
            "outputs": [
                {
                    "output_type": "error",
                    "ename": "",
                    "evalue": "Msg 104385, Level 16, State 1, Line 1\r\nCatalog view 'database_service_objectives' is not supported in this version.",
                    "traceback": []
                },
                {
                    "output_type": "display_data",
                    "data": {
                        "text/html": "Total execution time: 00:00:00.043"
                    },
                    "metadata": {}
                }
            ],
            "execution_count": 1
        },
        {
            "cell_type": "markdown",
            "source": [
                "Based on this pool size, check the max # queries in   \n",
                "[Memory and concurrency limits - Azure Synapse Analytics | Microsoft Docs](https://docs.microsoft.com/en-us/azure/synapse-analytics/sql-data-warehouse/memory-concurrency-limits)"
            ],
            "metadata": {
                "azdata_cell_guid": "18c95e11-9ba0-4494-9840-3b7fbea6a331"
            }
        },
        {
            "cell_type": "code",
            "source": [
                "--Create a proc to be used to test these limits\r\n",
                "CREATE PROC largeQuery\r\n",
                "AS\r\n",
                "SELECT dc.[Country], dc.[City], dd.[Calendar Year Label], dst.[Stock Item],\r\n",
                "FORMAT(COUNT_BIG(f.[Sale Key]),'N0') AS 'Count of Sales',\r\n",
                "FORMAT(SUM(f.[Total Excluding Tax]),'N') as 'Revenue',\r\n",
                "FORMAT(SUM(f.[Profit]),'N') as 'Profit'\r\n",
                "FROM wwi.fact_sale f\r\n",
                "JOIN wwi.dimension_City dc ON f.[City Key]=dc.[City Key]\r\n",
                "JOIN wwi.dimension_Date dd ON f.[Invoice Date Key]=dd.[Date]\r\n",
                "JOIN wwi.dimension_StockItem dst ON f.[Stock Item Key]=dst.[Stock Item Key]\r\n",
                "GROUP BY dc.[City], dc.[Country], dd.[Calendar Year Label], dst.[Stock Item]\r\n",
                "ORDER BY SUM(f.[Profit]) DESC\r\n",
                "\r\n",
                "GO \r\n",
                "\r\n",
                "CREATE PROC smallQuery\r\n",
                "AS\r\n",
                "Select dc.[Country],dc.[City],Format(SUM(f.[Profit]),'N') as 'Profit' from wwi.fact_sale f\r\n",
                "Join wwi.dimension_City dc on f.[City Key]=dc.[City Key]\r\n",
                "Group By dc.[City],dc.[Country]\r\n",
                "ORDER BY SUM(f.[Profit]) DESC\r\n",
                ""
            ],
            "metadata": {
                "azdata_cell_guid": "a827368c-4da9-421a-a205-4b37bc9e606a"
            },
            "outputs": [
                {
                    "output_type": "display_data",
                    "data": {
                        "text/html": "Commands completed successfully."
                    },
                    "metadata": {}
                },
                {
                    "output_type": "display_data",
                    "data": {
                        "text/html": "Total execution time: 00:00:00.308"
                    },
                    "metadata": {}
                }
            ],
            "execution_count": 13
        },
        {
            "cell_type": "markdown",
            "source": [
                "Monitor one execution and see what is the resource class value"
            ],
            "metadata": {
                "azdata_cell_guid": "01ee986b-dae1-4b9b-a04f-89e0899355ac"
            }
        },
        {
            "cell_type": "code",
            "source": [
                "SELECT r.request_id,r.session_id,s.login_name,r.Status,resource_class,[label],resource_class,importance,group_name,classifier_name,resource_allocation_percentage,total_elapsed_time,Command,result_cache_hit\n",
                "FROM sys.dm_pdw_exec_requests r cross APPLY (SELECT TOP 1 login_name from sys.dm_pdw_exec_sessions where session_id=r.session_id) s\n",
                "Where r.session_id<>session_id() and (r.Status='Running' or r.status='Suspended')\n",
                "ORDER By start_time desc;"
            ],
            "metadata": {
                "azdata_cell_guid": "676a79b2-f6d5-42fb-a812-7843a80f48f8"
            },
            "outputs": [
                {
                    "output_type": "display_data",
                    "data": {
                        "text/html": "(4 rows affected)"
                    },
                    "metadata": {}
                },
                {
                    "output_type": "display_data",
                    "data": {
                        "text/html": "Total execution time: 00:00:00.644"
                    },
                    "metadata": {}
                },
                {
                    "output_type": "execute_result",
                    "execution_count": 14,
                    "data": {
                        "application/vnd.dataresource+json": {
                            "schema": {
                                "fields": [
                                    {
                                        "name": "request_id"
                                    },
                                    {
                                        "name": "session_id"
                                    },
                                    {
                                        "name": "Status"
                                    },
                                    {
                                        "name": "resource_class"
                                    },
                                    {
                                        "name": "label"
                                    },
                                    {
                                        "name": "resource_class"
                                    },
                                    {
                                        "name": "importance"
                                    },
                                    {
                                        "name": "group_name"
                                    },
                                    {
                                        "name": "classifier_name"
                                    },
                                    {
                                        "name": "resource_allocation_percentage"
                                    },
                                    {
                                        "name": "total_elapsed_time"
                                    },
                                    {
                                        "name": "Command"
                                    },
                                    {
                                        "name": "result_cache_hit"
                                    }
                                ]
                            },
                            "data": [
                                {
                                    "0": "QID73631",
                                    "1": "SID4916",
                                    "2": "Running",
                                    "3": "myBigQueries",
                                    "4": "NULL",
                                    "5": "myBigQueries",
                                    "6": "high",
                                    "7": "myBigQueries",
                                    "8": "myBigQueriesClassifier",
                                    "9": "60.00",
                                    "10": "176482",
                                    "11": "SELECT dc.[Country], dc.[City], dd.[Calendar Year Label], dst.[Stock Item],\r\nFORMAT(COUNT_BIG(f.[Sale Key]),'N0') AS 'Count of Sales',\r\nFORMAT(SUM(f.[Total Excluding Tax]),'N') as 'Revenue',\r\nFORMAT(SUM(f.[Profit]),'N') as 'Profit'\r\nFROM wwi.fact_sale f\r\nJOIN wwi.dimension_City dc ON f.[City Key]=dc.[City Key]\r\nJOIN wwi.dimension_Date dd ON f.[Invoice Date Key]=dd.[Date]\r\nJOIN wwi.dimension_StockItem dst ON f.[Stock Item Key]=dst.[Stock Item Key]\r\nGROUP BY dc.[City], dc.[Country], dd.[Calendar Year Label], dst.[Stock Item]\r\nORDER BY SUM(f.[Profit]) DESC",
                                    "12": "-64"
                                },
                                {
                                    "0": "QID73630",
                                    "1": "SID4916",
                                    "2": "Running",
                                    "3": "NULL",
                                    "4": "NULL",
                                    "5": "NULL",
                                    "6": "NULL",
                                    "7": "NULL",
                                    "8": "NULL",
                                    "9": "NULL",
                                    "10": "176498",
                                    "11": "\r\nSELECT dc.[Country], dc.[City], dd.[Calendar Year Label], dst.[Stock Item],\r\nFORMAT(COUNT_BIG(f.[Sale Key]),'N0') AS 'Count of Sales',\r\nFORMAT(SUM(f.[Total Excluding Tax]),'N') as 'Revenue',\r\nFORMAT(SUM(f.[Profit]),'N') as 'Profit'\r\nFROM wwi.fact_sale f\r\nJOIN wwi.dimension_City dc ON f.[City Key]=dc.[City Key]\r\nJOIN wwi.dimension_Date dd ON f.[Invoice Date Key]=dd.[Date]\r\nJOIN wwi.dimension_StockItem dst ON f.[Stock Item Key]=dst.[Stock Item Key]\r\nGROUP BY dc.[City], dc.[Country], dd.[Calendar Year Label], dst.[Stock Item]\r\nORDER BY SUM(f.[Profit]) DESC",
                                    "12": "NULL"
                                },
                                {
                                    "0": "QID73629",
                                    "1": "SID4916",
                                    "2": "Running",
                                    "3": "NULL",
                                    "4": "NULL",
                                    "5": "NULL",
                                    "6": "high",
                                    "7": "NULL",
                                    "8": "myBigQueriesClassifier",
                                    "9": "NULL",
                                    "10": "176545",
                                    "11": "exec largeQuery",
                                    "12": "NULL"
                                },
                                {
                                    "0": "QID73628",
                                    "1": "SID4916",
                                    "2": "Running",
                                    "3": "NULL",
                                    "4": "NULL",
                                    "5": "NULL",
                                    "6": "NULL",
                                    "7": "NULL",
                                    "8": "NULL",
                                    "9": "NULL",
                                    "10": "176560",
                                    "11": "exec largeQuery",
                                    "12": "NULL"
                                }
                            ]
                        },
                        "text/html": "<table><tr><th>request_id</th><th>session_id</th><th>Status</th><th>resource_class</th><th>label</th><th>resource_class</th><th>importance</th><th>group_name</th><th>classifier_name</th><th>resource_allocation_percentage</th><th>total_elapsed_time</th><th>Command</th><th>result_cache_hit</th></tr><tr><td>QID73631</td><td>SID4916</td><td>Running</td><td>myBigQueries</td><td>NULL</td><td>myBigQueries</td><td>high</td><td>myBigQueries</td><td>myBigQueriesClassifier</td><td>60.00</td><td>176482</td><td>SELECT dc.[Country], dc.[City], dd.[Calendar Year Label], dst.[Stock Item],\r\nFORMAT(COUNT_BIG(f.[Sale Key]),'N0') AS 'Count of Sales',\r\nFORMAT(SUM(f.[Total Excluding Tax]),'N') as 'Revenue',\r\nFORMAT(SUM(f.[Profit]),'N') as 'Profit'\r\nFROM wwi.fact_sale f\r\nJOIN wwi.dimension_City dc ON f.[City Key]=dc.[City Key]\r\nJOIN wwi.dimension_Date dd ON f.[Invoice Date Key]=dd.[Date]\r\nJOIN wwi.dimension_StockItem dst ON f.[Stock Item Key]=dst.[Stock Item Key]\r\nGROUP BY dc.[City], dc.[Country], dd.[Calendar Year Label], dst.[Stock Item]\r\nORDER BY SUM(f.[Profit]) DESC</td><td>-64</td></tr><tr><td>QID73630</td><td>SID4916</td><td>Running</td><td>NULL</td><td>NULL</td><td>NULL</td><td>NULL</td><td>NULL</td><td>NULL</td><td>NULL</td><td>176498</td><td>\r\nSELECT dc.[Country], dc.[City], dd.[Calendar Year Label], dst.[Stock Item],\r\nFORMAT(COUNT_BIG(f.[Sale Key]),'N0') AS 'Count of Sales',\r\nFORMAT(SUM(f.[Total Excluding Tax]),'N') as 'Revenue',\r\nFORMAT(SUM(f.[Profit]),'N') as 'Profit'\r\nFROM wwi.fact_sale f\r\nJOIN wwi.dimension_City dc ON f.[City Key]=dc.[City Key]\r\nJOIN wwi.dimension_Date dd ON f.[Invoice Date Key]=dd.[Date]\r\nJOIN wwi.dimension_StockItem dst ON f.[Stock Item Key]=dst.[Stock Item Key]\r\nGROUP BY dc.[City], dc.[Country], dd.[Calendar Year Label], dst.[Stock Item]\r\nORDER BY SUM(f.[Profit]) DESC</td><td>NULL</td></tr><tr><td>QID73629</td><td>SID4916</td><td>Running</td><td>NULL</td><td>NULL</td><td>NULL</td><td>high</td><td>NULL</td><td>myBigQueriesClassifier</td><td>NULL</td><td>176545</td><td>exec largeQuery</td><td>NULL</td></tr><tr><td>QID73628</td><td>SID4916</td><td>Running</td><td>NULL</td><td>NULL</td><td>NULL</td><td>NULL</td><td>NULL</td><td>NULL</td><td>NULL</td><td>176560</td><td>exec largeQuery</td><td>NULL</td></tr></table>"
                    },
                    "metadata": {}
                }
            ],
            "execution_count": 10
        },
        {
            "cell_type": "markdown",
            "source": [
                "Why do we use resoruce class?\n",
                "\n",
                "Now use ostress to run multiple copies of smallQuery"
            ],
            "metadata": {
                "azdata_cell_guid": "9bd7e62d-a913-4c7f-b700-6a861085f7ec"
            }
        },
        {
            "cell_type": "markdown",
            "source": [
                "'''  \n",
                ".\\\\Execute-ostress.ps1 -loginName Alice -serverName \\*\\*\\*\\*\\*\\*\\*\\*.sql.azuresynapse.net -databaseName sampleDatabase -numberOfConnections 30 -numberOfIterations 8 -storedProcName largeQuery\n",
                "\n",
                "'''"
            ],
            "metadata": {
                "azdata_cell_guid": "23f1b2cf-6719-49d1-ac26-ace833163cf3"
            }
        },
        {
            "cell_type": "code",
            "source": [
                "select count(*) as 'Request_Count',Status from sys.dm_pdw_exec_requests\r\n",
                "where [Status] NOT IN ('Completed','Failed','Cancelled') group by Status  --monitor for waiting requests"
            ],
            "metadata": {
                "azdata_cell_guid": "9222209a-5917-457b-bf97-5e608258b6a5"
            },
            "outputs": [
                {
                    "output_type": "display_data",
                    "data": {
                        "text/html": "(1 row affected)"
                    },
                    "metadata": {}
                },
                {
                    "output_type": "display_data",
                    "data": {
                        "text/html": "Total execution time: 00:00:00.164"
                    },
                    "metadata": {}
                },
                {
                    "output_type": "execute_result",
                    "execution_count": 1,
                    "data": {
                        "application/vnd.dataresource+json": {
                            "schema": {
                                "fields": [
                                    {
                                        "name": "Request_Count"
                                    },
                                    {
                                        "name": "Status"
                                    }
                                ]
                            },
                            "data": [
                                {
                                    "0": "1",
                                    "1": "Running"
                                }
                            ]
                        },
                        "text/html": "<table><tr><th>Request_Count</th><th>Status</th></tr><tr><td>1</td><td>Running</td></tr></table>"
                    },
                    "metadata": {}
                }
            ],
            "execution_count": null
        },
        {
            "cell_type": "code",
            "source": [
                "--monitor a waiting request\r\n",
                "\r\n",
                "DECLARE @request_id varchar(20)='QID80368';\r\n",
                "\r\n",
                "SELECT waits.session_id,\r\n",
                "      waits.request_id,  \r\n",
                "      requests.command,\r\n",
                "      requests.status,\r\n",
                "      requests.start_time,  \r\n",
                "      waits.type,\r\n",
                "      waits.state,\r\n",
                "      waits.object_type,\r\n",
                "      waits.object_name\r\n",
                "FROM   sys.dm_pdw_waits waits\r\n",
                "   JOIN  sys.dm_pdw_exec_requests requests\r\n",
                "   ON waits.request_id=requests.request_id\r\n",
                "WHERE waits.request_id = @request_id\r\n",
                "ORDER BY waits.object_name, waits.object_type, waits.state;\r\n",
                ""
            ],
            "metadata": {
                "azdata_cell_guid": "0308b83d-3d8b-41b1-b436-c5f1914d81bf"
            },
            "outputs": [],
            "execution_count": null
        },
        {
            "cell_type": "markdown",
            "source": [
                "## Workload group"
            ],
            "metadata": {
                "azdata_cell_guid": "d85c47d4-00a4-4520-965a-70eb2b7c3136"
            }
        },
        {
            "cell_type": "code",
            "source": [
                "CREATE WORKLOAD GROUP largeWorkloadGroup\r\n",
                " WITH\r\n",
                " (   MIN_PERCENTAGE_RESOURCE = 30 \r\n",
                "   , CAP_PERCENTAGE_RESOURCE = 100 \r\n",
                "   , REQUEST_MIN_RESOURCE_GRANT_PERCENT = 10\r\n",
                "   , REQUEST_MAX_RESOURCE_GRANT_PERCENT = 80 \r\n",
                "   , IMPORTANCE =  ABOVE_NORMAL \r\n",
                "   , QUERY_EXECUTION_TIMEOUT_SEC = 7200 )"
            ],
            "metadata": {
                "azdata_cell_guid": "82bff495-5bd1-4b38-8db3-0cf1ea295b07"
            },
            "outputs": [
                {
                    "output_type": "display_data",
                    "data": {
                        "text/html": "Commands completed successfully."
                    },
                    "metadata": {}
                },
                {
                    "output_type": "display_data",
                    "data": {
                        "text/html": "Total execution time: 00:00:00.117"
                    },
                    "metadata": {}
                }
            ],
            "execution_count": 5
        },
        {
            "cell_type": "code",
            "source": [
                "SELECT * FROM sys.workload_management_workload_groups"
            ],
            "metadata": {
                "azdata_cell_guid": "78ace078-22aa-4fdf-9625-26c7722572b7"
            },
            "outputs": [
                {
                    "output_type": "display_data",
                    "data": {
                        "text/html": "(13 rows affected)"
                    },
                    "metadata": {}
                },
                {
                    "output_type": "display_data",
                    "data": {
                        "text/html": "Total execution time: 00:00:00.083"
                    },
                    "metadata": {}
                },
                {
                    "output_type": "execute_result",
                    "execution_count": 11,
                    "data": {
                        "application/vnd.dataresource+json": {
                            "schema": {
                                "fields": [
                                    {
                                        "name": "group_id"
                                    },
                                    {
                                        "name": "name"
                                    },
                                    {
                                        "name": "importance"
                                    },
                                    {
                                        "name": "min_percentage_resource"
                                    },
                                    {
                                        "name": "cap_percentage_resource"
                                    },
                                    {
                                        "name": "request_min_resource_grant_percent"
                                    },
                                    {
                                        "name": "request_max_resource_grant_percent"
                                    },
                                    {
                                        "name": "query_execution_timeout_sec"
                                    },
                                    {
                                        "name": "query_wait_timeout_sec"
                                    },
                                    {
                                        "name": "create_time"
                                    },
                                    {
                                        "name": "modify_time"
                                    }
                                ]
                            },
                            "data": [
                                {
                                    "0": "1",
                                    "1": "smallrc",
                                    "2": "normal",
                                    "3": "0",
                                    "4": "100",
                                    "5": "3.00",
                                    "6": "3.00",
                                    "7": "0",
                                    "8": "0",
                                    "9": "2021-01-27 14:33:51.550",
                                    "10": "2021-01-27 14:33:51.550"
                                },
                                {
                                    "0": "2",
                                    "1": "mediumrc",
                                    "2": "normal",
                                    "3": "0",
                                    "4": "100",
                                    "5": "10.00",
                                    "6": "10.00",
                                    "7": "0",
                                    "8": "0",
                                    "9": "2021-01-27 14:33:51.557",
                                    "10": "2021-01-27 14:33:51.557"
                                },
                                {
                                    "0": "3",
                                    "1": "largerc",
                                    "2": "normal",
                                    "3": "0",
                                    "4": "100",
                                    "5": "22.00",
                                    "6": "22.00",
                                    "7": "0",
                                    "8": "0",
                                    "9": "2021-01-27 14:33:51.560",
                                    "10": "2021-01-27 14:33:51.560"
                                },
                                {
                                    "0": "4",
                                    "1": "xlargerc",
                                    "2": "normal",
                                    "3": "0",
                                    "4": "100",
                                    "5": "70.00",
                                    "6": "70.00",
                                    "7": "0",
                                    "8": "0",
                                    "9": "2021-01-27 14:33:51.567",
                                    "10": "2021-01-27 14:33:51.567"
                                },
                                {
                                    "0": "5",
                                    "1": "staticrc10",
                                    "2": "normal",
                                    "3": "0",
                                    "4": "100",
                                    "5": "0.40",
                                    "6": "0.40",
                                    "7": "0",
                                    "8": "0",
                                    "9": "2021-01-27 14:33:51.570",
                                    "10": "2021-01-27 14:33:51.570"
                                },
                                {
                                    "0": "6",
                                    "1": "staticrc20",
                                    "2": "normal",
                                    "3": "0",
                                    "4": "100",
                                    "5": "0.80",
                                    "6": "0.80",
                                    "7": "0",
                                    "8": "0",
                                    "9": "2021-01-27 14:33:51.573",
                                    "10": "2021-01-27 14:33:51.573"
                                },
                                {
                                    "0": "7",
                                    "1": "staticrc30",
                                    "2": "normal",
                                    "3": "0",
                                    "4": "100",
                                    "5": "1.60",
                                    "6": "1.60",
                                    "7": "0",
                                    "8": "0",
                                    "9": "2021-01-27 14:33:51.580",
                                    "10": "2021-01-27 14:33:51.580"
                                },
                                {
                                    "0": "8",
                                    "1": "staticrc40",
                                    "2": "normal",
                                    "3": "0",
                                    "4": "100",
                                    "5": "3.20",
                                    "6": "3.20",
                                    "7": "0",
                                    "8": "0",
                                    "9": "2021-01-27 14:33:51.583",
                                    "10": "2021-01-27 14:33:51.583"
                                },
                                {
                                    "0": "9",
                                    "1": "staticrc50",
                                    "2": "normal",
                                    "3": "0",
                                    "4": "100",
                                    "5": "6.40",
                                    "6": "6.40",
                                    "7": "0",
                                    "8": "0",
                                    "9": "2021-01-27 14:33:51.590",
                                    "10": "2021-01-27 14:33:51.590"
                                },
                                {
                                    "0": "10",
                                    "1": "staticrc60",
                                    "2": "normal",
                                    "3": "0",
                                    "4": "100",
                                    "5": "12.80",
                                    "6": "12.80",
                                    "7": "0",
                                    "8": "0",
                                    "9": "2021-01-27 14:33:51.593",
                                    "10": "2021-01-27 14:33:51.593"
                                },
                                {
                                    "0": "11",
                                    "1": "staticrc70",
                                    "2": "normal",
                                    "3": "0",
                                    "4": "100",
                                    "5": "25.60",
                                    "6": "25.60",
                                    "7": "0",
                                    "8": "0",
                                    "9": "2021-01-27 14:33:51.597",
                                    "10": "2021-01-27 14:33:51.597"
                                },
                                {
                                    "0": "12",
                                    "1": "staticrc80",
                                    "2": "normal",
                                    "3": "0",
                                    "4": "100",
                                    "5": "51.20",
                                    "6": "51.20",
                                    "7": "0",
                                    "8": "0",
                                    "9": "2021-01-27 14:33:51.600",
                                    "10": "2021-01-27 14:33:51.600"
                                },
                                {
                                    "0": "1014",
                                    "1": "myBigQueries",
                                    "2": "above_normal",
                                    "3": "30",
                                    "4": "80",
                                    "5": "10.00",
                                    "6": "80.00",
                                    "7": "7200",
                                    "8": "0",
                                    "9": "2021-03-14 16:12:49.313",
                                    "10": "2021-03-14 16:12:49.313"
                                }
                            ]
                        },
                        "text/html": "<table><tr><th>group_id</th><th>name</th><th>importance</th><th>min_percentage_resource</th><th>cap_percentage_resource</th><th>request_min_resource_grant_percent</th><th>request_max_resource_grant_percent</th><th>query_execution_timeout_sec</th><th>query_wait_timeout_sec</th><th>create_time</th><th>modify_time</th></tr><tr><td>1</td><td>smallrc</td><td>normal</td><td>0</td><td>100</td><td>3.00</td><td>3.00</td><td>0</td><td>0</td><td>2021-01-27 14:33:51.550</td><td>2021-01-27 14:33:51.550</td></tr><tr><td>2</td><td>mediumrc</td><td>normal</td><td>0</td><td>100</td><td>10.00</td><td>10.00</td><td>0</td><td>0</td><td>2021-01-27 14:33:51.557</td><td>2021-01-27 14:33:51.557</td></tr><tr><td>3</td><td>largerc</td><td>normal</td><td>0</td><td>100</td><td>22.00</td><td>22.00</td><td>0</td><td>0</td><td>2021-01-27 14:33:51.560</td><td>2021-01-27 14:33:51.560</td></tr><tr><td>4</td><td>xlargerc</td><td>normal</td><td>0</td><td>100</td><td>70.00</td><td>70.00</td><td>0</td><td>0</td><td>2021-01-27 14:33:51.567</td><td>2021-01-27 14:33:51.567</td></tr><tr><td>5</td><td>staticrc10</td><td>normal</td><td>0</td><td>100</td><td>0.40</td><td>0.40</td><td>0</td><td>0</td><td>2021-01-27 14:33:51.570</td><td>2021-01-27 14:33:51.570</td></tr><tr><td>6</td><td>staticrc20</td><td>normal</td><td>0</td><td>100</td><td>0.80</td><td>0.80</td><td>0</td><td>0</td><td>2021-01-27 14:33:51.573</td><td>2021-01-27 14:33:51.573</td></tr><tr><td>7</td><td>staticrc30</td><td>normal</td><td>0</td><td>100</td><td>1.60</td><td>1.60</td><td>0</td><td>0</td><td>2021-01-27 14:33:51.580</td><td>2021-01-27 14:33:51.580</td></tr><tr><td>8</td><td>staticrc40</td><td>normal</td><td>0</td><td>100</td><td>3.20</td><td>3.20</td><td>0</td><td>0</td><td>2021-01-27 14:33:51.583</td><td>2021-01-27 14:33:51.583</td></tr><tr><td>9</td><td>staticrc50</td><td>normal</td><td>0</td><td>100</td><td>6.40</td><td>6.40</td><td>0</td><td>0</td><td>2021-01-27 14:33:51.590</td><td>2021-01-27 14:33:51.590</td></tr><tr><td>10</td><td>staticrc60</td><td>normal</td><td>0</td><td>100</td><td>12.80</td><td>12.80</td><td>0</td><td>0</td><td>2021-01-27 14:33:51.593</td><td>2021-01-27 14:33:51.593</td></tr><tr><td>11</td><td>staticrc70</td><td>normal</td><td>0</td><td>100</td><td>25.60</td><td>25.60</td><td>0</td><td>0</td><td>2021-01-27 14:33:51.597</td><td>2021-01-27 14:33:51.597</td></tr><tr><td>12</td><td>staticrc80</td><td>normal</td><td>0</td><td>100</td><td>51.20</td><td>51.20</td><td>0</td><td>0</td><td>2021-01-27 14:33:51.600</td><td>2021-01-27 14:33:51.600</td></tr><tr><td>1014</td><td>myBigQueries</td><td>above_normal</td><td>30</td><td>80</td><td>10.00</td><td>80.00</td><td>7200</td><td>0</td><td>2021-03-14 16:12:49.313</td><td>2021-03-14 16:12:49.313</td></tr></table>"
                    },
                    "metadata": {}
                }
            ],
            "execution_count": 1
        },
        {
            "cell_type": "markdown",
            "source": [
                "## Calssifier"
            ],
            "metadata": {
                "azdata_cell_guid": "fc1f2222-a972-40bf-8f9d-3d195b9bcf12"
            }
        },
        {
            "cell_type": "code",
            "source": [
                "--for a user \r\n",
                "CREATE WORKLOAD CLASSIFIER myBigQueriesClassifier\r\n",
                "  WITH (WORKLOAD_GROUP = 'largeWorkloadGroup'\r\n",
                "       ,MEMBERNAME = 'Alice')\r\n",
                "     "
            ],
            "metadata": {
                "azdata_cell_guid": "80ed3956-f4e6-459d-98cc-c3295b4c453c"
            },
            "outputs": [
                {
                    "output_type": "display_data",
                    "data": {
                        "text/html": "Commands completed successfully."
                    },
                    "metadata": {}
                },
                {
                    "output_type": "display_data",
                    "data": {
                        "text/html": "Total execution time: 00:00:00.106"
                    },
                    "metadata": {}
                }
            ],
            "execution_count": 4
        },
        {
            "cell_type": "code",
            "source": [
                "--dynamic using label\r\n",
                "CREATE WORKLOAD CLASSIFIER myBigQueriesClassifier2\r\n",
                "  WITH (WORKLOAD_GROUP = 'largeWorkloadGroup'\r\n",
                "       ,MEMBERNAME = 'public'\r\n",
                "      ,WLM_LABEL='big_label' )"
            ],
            "metadata": {
                "azdata_cell_guid": "c852bc1a-cec8-498b-a02a-b49d83ba92aa",
                "tags": []
            },
            "outputs": [
                {
                    "output_type": "display_data",
                    "data": {
                        "text/html": "Commands completed successfully."
                    },
                    "metadata": {}
                },
                {
                    "output_type": "display_data",
                    "data": {
                        "text/html": "Total execution time: 00:00:00.072"
                    },
                    "metadata": {}
                }
            ],
            "execution_count": null
        },
        {
            "cell_type": "code",
            "source": [
                "--dynamic using session context \r\n",
                "CREATE WORKLOAD CLASSIFIER myBigQueriesClassifier3\r\n",
                "  WITH (WORKLOAD_GROUP = 'largeWorkloadGroup'\r\n",
                "       ,MEMBERNAME = 'public'\r\n",
                "       ,WLM_CONTEXT='big_context' )"
            ],
            "metadata": {
                "azdata_cell_guid": "11d96bd4-dfb1-41b1-aa88-60e99298781e"
            },
            "outputs": [
                {
                    "output_type": "display_data",
                    "data": {
                        "text/html": "Commands completed successfully."
                    },
                    "metadata": {}
                },
                {
                    "output_type": "display_data",
                    "data": {
                        "text/html": "Total execution time: 00:00:00.115"
                    },
                    "metadata": {}
                }
            ],
            "execution_count": null
        },
        {
            "cell_type": "code",
            "source": [
                "SELECT * FROM sys.workload_management_workload_classifiers c join sys.workload_management_workload_classifier_details cd on c.classifier_id=cd.classifier_id\n",
                "where c.name='myBigQueriesClassifier' or c.name='myBigQueriesClassifier2' or c.name='myBigQueriesClassifier3'\n",
                ""
            ],
            "metadata": {
                "azdata_cell_guid": "d363db9d-6e00-48c4-bb7a-36b3d05347e1"
            },
            "outputs": [
                {
                    "output_type": "display_data",
                    "data": {
                        "text/html": "(5 rows affected)"
                    },
                    "metadata": {}
                },
                {
                    "output_type": "display_data",
                    "data": {
                        "text/html": "Total execution time: 00:00:00.076"
                    },
                    "metadata": {}
                },
                {
                    "output_type": "execute_result",
                    "execution_count": 9,
                    "data": {
                        "application/vnd.dataresource+json": {
                            "schema": {
                                "fields": [
                                    {
                                        "name": "classifier_id"
                                    },
                                    {
                                        "name": "name"
                                    },
                                    {
                                        "name": "group_name"
                                    },
                                    {
                                        "name": "importance"
                                    },
                                    {
                                        "name": "create_time"
                                    },
                                    {
                                        "name": "modify_time"
                                    },
                                    {
                                        "name": "is_enabled"
                                    },
                                    {
                                        "name": "classifier_id"
                                    },
                                    {
                                        "name": "classifier_type"
                                    },
                                    {
                                        "name": "classifier_value"
                                    }
                                ]
                            },
                            "data": [
                                {
                                    "0": "3019",
                                    "1": "myBigQueriesClassifier",
                                    "2": "largeWorkloadGroup",
                                    "3": "NULL",
                                    "4": "2021-03-15 01:40:20.003",
                                    "5": "2021-03-15 01:40:20.003",
                                    "6": "1",
                                    "7": "3019",
                                    "8": "membername",
                                    "9": "Alice"
                                },
                                {
                                    "0": "3020",
                                    "1": "myBigQueriesClassifier2",
                                    "2": "largeWorkloadGroup",
                                    "3": "NULL",
                                    "4": "2021-03-15 01:40:21.213",
                                    "5": "2021-03-15 01:40:21.213",
                                    "6": "1",
                                    "7": "3020",
                                    "8": "membername",
                                    "9": "public"
                                },
                                {
                                    "0": "3020",
                                    "1": "myBigQueriesClassifier2",
                                    "2": "largeWorkloadGroup",
                                    "3": "NULL",
                                    "4": "2021-03-15 01:40:21.213",
                                    "5": "2021-03-15 01:40:21.213",
                                    "6": "1",
                                    "7": "3020",
                                    "8": "wlm_label",
                                    "9": "big_label"
                                },
                                {
                                    "0": "3021",
                                    "1": "myBigQueriesClassifier3",
                                    "2": "largeWorkloadGroup",
                                    "3": "NULL",
                                    "4": "2021-03-15 01:40:23.017",
                                    "5": "2021-03-15 01:40:23.017",
                                    "6": "1",
                                    "7": "3021",
                                    "8": "membername",
                                    "9": "public"
                                },
                                {
                                    "0": "3021",
                                    "1": "myBigQueriesClassifier3",
                                    "2": "largeWorkloadGroup",
                                    "3": "NULL",
                                    "4": "2021-03-15 01:40:23.017",
                                    "5": "2021-03-15 01:40:23.017",
                                    "6": "1",
                                    "7": "3021",
                                    "8": "wlm_context",
                                    "9": "big_context"
                                }
                            ]
                        },
                        "text/html": "<table><tr><th>classifier_id</th><th>name</th><th>group_name</th><th>importance</th><th>create_time</th><th>modify_time</th><th>is_enabled</th><th>classifier_id</th><th>classifier_type</th><th>classifier_value</th></tr><tr><td>3019</td><td>myBigQueriesClassifier</td><td>largeWorkloadGroup</td><td>NULL</td><td>2021-03-15 01:40:20.003</td><td>2021-03-15 01:40:20.003</td><td>1</td><td>3019</td><td>membername</td><td>Alice</td></tr><tr><td>3020</td><td>myBigQueriesClassifier2</td><td>largeWorkloadGroup</td><td>NULL</td><td>2021-03-15 01:40:21.213</td><td>2021-03-15 01:40:21.213</td><td>1</td><td>3020</td><td>membername</td><td>public</td></tr><tr><td>3020</td><td>myBigQueriesClassifier2</td><td>largeWorkloadGroup</td><td>NULL</td><td>2021-03-15 01:40:21.213</td><td>2021-03-15 01:40:21.213</td><td>1</td><td>3020</td><td>wlm_label</td><td>big_label</td></tr><tr><td>3021</td><td>myBigQueriesClassifier3</td><td>largeWorkloadGroup</td><td>NULL</td><td>2021-03-15 01:40:23.017</td><td>2021-03-15 01:40:23.017</td><td>1</td><td>3021</td><td>membername</td><td>public</td></tr><tr><td>3021</td><td>myBigQueriesClassifier3</td><td>largeWorkloadGroup</td><td>NULL</td><td>2021-03-15 01:40:23.017</td><td>2021-03-15 01:40:23.017</td><td>1</td><td>3021</td><td>wlm_context</td><td>big_context</td></tr></table>"
                    },
                    "metadata": {}
                }
            ],
            "execution_count": 3
        },
        {
            "cell_type": "markdown",
            "source": [
                "## Use labels & session context"
            ],
            "metadata": {
                "azdata_cell_guid": "7731f609-aeb7-43e0-9b8f-78e0bb6ad1af"
            }
        },
        {
            "cell_type": "code",
            "source": [
                "--session context \n",
                "EXEC sys.sp_set_session_context @key = 'wlm_context', @value = 'big_context'\n",
                "\n",
                "--label \n",
                "SELECT dc.[Country], dc.[City], dd.[Calendar Year Label], dst.[Stock Item],\n",
                "FORMAT(COUNT_BIG(f.[Sale Key]),'N0') AS 'Count of Sales',\n",
                "FORMAT(SUM(f.[Total Excluding Tax]),'N') as 'Revenue',\n",
                "FORMAT(SUM(f.[Profit]),'N') as 'Profit'\n",
                "FROM wwi.fact_sale f\n",
                "JOIN wwi.dimension_City dc ON f.[City Key]=dc.[City Key]\n",
                "JOIN wwi.dimension_Date dd ON f.[Invoice Date Key]=dd.[Date]\n",
                "JOIN wwi.dimension_StockItem dst ON f.[Stock Item Key]=dst.[Stock Item Key]\n",
                "GROUP BY dc.[City], dc.[Country], dd.[Calendar Year Label], dst.[Stock Item]\n",
                "ORDER BY SUM(f.[Profit]) DESC  OPTION (LABEL = 'big_label')"
            ],
            "metadata": {
                "azdata_cell_guid": "49ce3bc5-f4ab-4e56-86de-0af8561eb3a0"
            },
            "outputs": [],
            "execution_count": null
        },
        {
            "cell_type": "markdown",
            "source": [
                "## Clear resources"
            ],
            "metadata": {
                "azdata_cell_guid": "84acfc1d-2131-458f-8a46-b88421a4ba6a"
            }
        },
        {
            "cell_type": "code",
            "source": [
                "--clear \r\n",
                "DROP WORKLOAD CLASSIFIER myBigQueriesClassifier;\n",
                "GO\n",
                "DROP WORKLOAD CLASSIFIER myBigQueriesClassifier2;\n",
                "GO\n",
                "DROP WORKLOAD CLASSIFIER myBigQueriesClassifier3;\n",
                "GO\r\n",
                "DROP WORKLOAD GROUP largeWorkloadGroup"
            ],
            "metadata": {
                "azdata_cell_guid": "f1350842-0efe-438d-8179-8f74c112d9b1"
            },
            "outputs": [
                {
                    "output_type": "error",
                    "ename": "",
                    "evalue": "Msg 105585, Level 16, State 1, Line 1\r\nDROP WORKLOAD CLASSIFIER statement failed since the classifier does not exist",
                    "traceback": []
                },
                {
                    "output_type": "error",
                    "ename": "",
                    "evalue": "Msg 105585, Level 16, State 1, Line 4\r\nDROP WORKLOAD CLASSIFIER statement failed since the classifier does not exist",
                    "traceback": []
                },
                {
                    "output_type": "error",
                    "ename": "",
                    "evalue": "Msg 105585, Level 16, State 1, Line 6\r\nDROP WORKLOAD CLASSIFIER statement failed since the classifier does not exist",
                    "traceback": []
                },
                {
                    "output_type": "display_data",
                    "data": {
                        "text/html": "Commands completed successfully."
                    },
                    "metadata": {}
                },
                {
                    "output_type": "display_data",
                    "data": {
                        "text/html": "Total execution time: 00:00:00.467"
                    },
                    "metadata": {}
                }
            ],
            "execution_count": 3
        }
    ]
}